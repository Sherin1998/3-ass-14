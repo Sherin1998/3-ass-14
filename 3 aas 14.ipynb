{
 "cells": [
  {
   "cell_type": "code",
   "execution_count": null,
   "metadata": {},
   "outputs": [],
   "source": [
    "#1\n",
    "\n",
    "class iter12():\n",
    "    def __init__(self,n):\n",
    "        self.n=n\n",
    "    def comp(self):\n",
    "        for i in range(0,self.n):\n",
    "            if(i%7==0):\n",
    "                yield i\n",
    "x=iter12(100)\n",
    "\n",
    "for i in x.comp():\n",
    "    print(i)\n",
    "\n"
   ]
  },
  {
   "cell_type": "code",
   "execution_count": null,
   "metadata": {},
   "outputs": [],
   "source": [
    "#2\n",
    "def aqu(x):\n",
    "    q={}\n",
    "    for i in x:\n",
    "        q[i]=[x.count(i)]\n",
    "    return q\n",
    "        \n",
    " \n",
    "        \n",
    "        \n",
    "        \n",
    "    \n",
    "    \n",
    "str1=\"New to Python or choosing between Python 2 and Python 3? Read Python 2 or Python 3.\"\n",
    "x=str1.split(' ')\n",
    "aqu(x)"
   ]
  },
  {
   "cell_type": "code",
   "execution_count": null,
   "metadata": {},
   "outputs": [],
   "source": [
    "#2\n",
    "\n",
    "str1=\"New to Python or choosing between Python 2 and Python 3? Read Python 2 or Python 3.\"\n",
    "x=str1.split(' ')\n",
    "for i in x:\n",
    "    u={}\n",
    "    count1=x.count(i)\n",
    "    u[i]=[count1]\n",
    "    print(u)"
   ]
  },
  {
   "cell_type": "code",
   "execution_count": null,
   "metadata": {},
   "outputs": [],
   "source": [
    "#3\n",
    "class Person():\n",
    "    def __init__(self):\n",
    "        pass\n",
    "    def getGender(self):\n",
    "        pass\n",
    "class Male(Person):\n",
    "    def __init__(self):\n",
    "            self.x='Male'\n",
    "    def getGender(self):\n",
    "        return self.x\n",
    "class Female(Person):    \n",
    "    def __init__(self):\n",
    "            self.x='Female'\n",
    "    def getGender(self):\n",
    "        return self.x\n",
    "        \n",
    "        \n",
    "y=Female()\n",
    "print(y.getGender())\n",
    "a=Male()\n",
    "print(a.getGender())\n",
    "        "
   ]
  },
  {
   "cell_type": "code",
   "execution_count": null,
   "metadata": {},
   "outputs": [],
   "source": [
    "#4\n",
    "l=['I','You']\n",
    "m=['Play','Love']\n",
    "n=['Hocky','Football']\n",
    "for i in l:\n",
    "    for j in m:\n",
    "        for k in n:\n",
    "            print(i+' '+j+' '+''+k)"
   ]
  },
  {
   "cell_type": "code",
   "execution_count": null,
   "metadata": {},
   "outputs": [],
   "source": [
    "#5\n",
    "import gzip\n",
    "x=b\"hello world!hello world!hello world!hello world!\"\n",
    "y=gzip.compress(x)           #compression\n",
    "print(y)\n",
    "print(gzip.decompress(y))    #decompression"
   ]
  },
  {
   "cell_type": "code",
   "execution_count": null,
   "metadata": {},
   "outputs": [],
   "source": [
    "#6\n",
    "def binary(a,f):\n",
    "    low=0\n",
    "    high=len(a)-1\n",
    "    mid=(low+high)//2\n",
    "    while(low<=high):\n",
    "        if(a[mid]==f):\n",
    "            return mid\n",
    "            break     \n",
    "        elif(a[mid]>f):\n",
    "            high=mid-1\n",
    "        else:\n",
    "            low=mid+1\n",
    "                \n",
    "            \n",
    "        \n",
    "x=int(input('Enter list length'))\n",
    "a=[]\n",
    "for i in range(x):\n",
    "    a.append(int(input()))\n",
    "a.sort()\n",
    "\n",
    "f=int(input('Enter element to search :'))\n",
    "s=binary(a,f)\n",
    "print(f'element {f} found in {s} ')   \n",
    "    \n",
    "    "
   ]
  },
  {
   "cell_type": "code",
   "execution_count": null,
   "metadata": {},
   "outputs": [],
   "source": []
  }
 ],
 "metadata": {
  "kernelspec": {
   "display_name": "Python 3",
   "language": "python",
   "name": "python3"
  },
  "language_info": {
   "codemirror_mode": {
    "name": "ipython",
    "version": 3
   },
   "file_extension": ".py",
   "mimetype": "text/x-python",
   "name": "python",
   "nbconvert_exporter": "python",
   "pygments_lexer": "ipython3",
   "version": "3.8.3"
  }
 },
 "nbformat": 4,
 "nbformat_minor": 4
}
